{
 "cells": [
  {
   "cell_type": "markdown",
   "metadata": {},
   "source": [
    "Шилов Владимир 23712 Задача 2: Инвентарь и расход материалов на производстве\n",
    "Необходимо создать систему классов для управления инвентарем и расходом материалов на производстве.\n",
    "\n",
    "Условия:\n",
    "Создайте абстрактный класс Material, который будет представлять общие характеристики для всех видов материалов. В этом классе нужно определить абстрактный метод calculate_cost(), который будет вычислять стоимость материала в зависимости от его количества и цены за единицу.\n",
    "\n",
    "Создайте дочерние классы, представляющие конкретные типы материалов, такие как Metal, Wood и Plastic. Каждый из этих классов должен наследовать абстрактный класс Material и реализовать метод calculate_cost(), специфичный для данного типа материала (придумайте уникальный параметр сами)."
   ]
  },
  {
   "cell_type": "markdown",
   "metadata": {},
   "source": [
    "Решение задачи 2"
   ]
  },
  {
   "cell_type": "code",
   "execution_count": 4,
   "metadata": {},
   "outputs": [],
   "source": [
    "from abc import ABC, abstractmethod\n",
    "\n",
    "class Material(ABC):\n",
    "    def __init__(self, name, quantity, unit_price):\n",
    "        self.name = name\n",
    "        self.quantity = quantity\n",
    "        self.unit_price = unit_price\n",
    "\n",
    "    @abstractmethod\n",
    "    def calculate_cost(self):\n",
    "        pass\n",
    "\n",
    "class Metal(Material):\n",
    "    def __init__(self, name, quantity, unit_price, purity):\n",
    "        super().__init__(name, quantity, unit_price)\n",
    "        self.purity = purity\n",
    "\n",
    "    def calculate_cost(self):\n",
    "        # Стоимость металла рассчитывается с учетом чистоты\n",
    "        return self.quantity * self.unit_price * (self.purity / 100)\n",
    "\n",
    "class Wood(Material):\n",
    "    def __init__(self, name, quantity, unit_price, wood_type):\n",
    "        super().__init__(name, quantity, unit_price)\n",
    "        self.wood_type = wood_type\n",
    "\n",
    "    def calculate_cost(self):\n",
    "        # Стоимость дерева рассчитывается с учетом типа дерева\n",
    "        # Например, редкие виды дерева могут удвоить стоимость\n",
    "        multiplier = 2 if self.wood_type.lower() in ['mahogany', 'ebony'] else 1\n",
    "        return self.quantity * self.unit_price * multiplier\n",
    "\n",
    "class Plastic(Material):\n",
    "    def __init__(self, name, quantity, unit_price, grade):\n",
    "        super().__init__(name, quantity, unit_price)\n",
    "        self.grade = grade\n",
    "\n",
    "    def calculate_cost(self):\n",
    "        # Стоимость пластика рассчитывается с учетом его класса\n",
    "        # Например, высококачественный пластик увеличивает стоимость на 50%\n",
    "        multiplier = 1.5 if self.grade.lower() == 'high' else 1\n",
    "        return self.quantity * self.unit_price * multiplier"
   ]
  },
  {
   "cell_type": "code",
   "execution_count": 5,
   "metadata": {},
   "outputs": [
    {
     "name": "stdout",
     "output_type": "stream",
     "text": [
      "Стоимость металла: 285.0\n",
      "Стоимость дерева: 500\n",
      "Стоимость пластика: 300.0\n"
     ]
    }
   ],
   "source": [
    "# Примеры использования\n",
    "metal1 = Metal(\"Aluminum\", 100, 3, 95)\n",
    "wood1 = Wood(\"Oak\", 50, 10, \"Oak\")\n",
    "plastic1 = Plastic(\"Polyethylene\", 200, 1, \"High\")\n",
    "\n",
    "# Рассчет стоимости для каждого материала\n",
    "print(f\"Стоимость металла: {metal1.calculate_cost()}\")\n",
    "print(f\"Стоимость дерева: {wood1.calculate_cost()}\")\n",
    "print(f\"Стоимость пластика: {plastic1.calculate_cost()}\")"
   ]
  },
  {
   "cell_type": "markdown",
   "metadata": {},
   "source": [
    "Unit-тестирование\n",
    "Абстрактный класс Material:\n",
    "\n",
    "Определяет общие атрибуты и метод calculate_cost().\n",
    "Классы Metal, Wood и Plastic:\n",
    "\n",
    "Реализуют метод calculate_cost() с учетом уникальных параметров каждого типа материала.\n",
    "Unit-тестирование:\n",
    "\n",
    "Проверяет правильность инициализации каждого типа материала.\n",
    "Проверяет корректность расчета стоимости для каждого типа материала."
   ]
  },
  {
   "cell_type": "code",
   "execution_count": 6,
   "metadata": {},
   "outputs": [
    {
     "name": "stderr",
     "output_type": "stream",
     "text": [
      "test_calculate_cost_metal (__main__.TestMaterial.test_calculate_cost_metal) ... ok\n",
      "test_calculate_cost_plastic (__main__.TestMaterial.test_calculate_cost_plastic) ... ok\n",
      "test_calculate_cost_wood (__main__.TestMaterial.test_calculate_cost_wood) ... ok\n",
      "test_metal_initialization (__main__.TestMaterial.test_metal_initialization) ... ok\n",
      "test_plastic_initialization (__main__.TestMaterial.test_plastic_initialization) ... ok\n",
      "test_wood_initialization (__main__.TestMaterial.test_wood_initialization) ... ok\n",
      "\n",
      "----------------------------------------------------------------------\n",
      "Ran 6 tests in 0.010s\n",
      "\n",
      "OK\n"
     ]
    }
   ],
   "source": [
    "import unittest\n",
    "\n",
    "class TestMaterial(unittest.TestCase):\n",
    "    def test_metal_initialization(self):\n",
    "        metal = Metal(\"Iron\", 100, 5, 90)\n",
    "        self.assertEqual(metal.name, \"Iron\")\n",
    "        self.assertEqual(metal.quantity, 100)\n",
    "        self.assertEqual(metal.unit_price, 5)\n",
    "        self.assertEqual(metal.purity, 90)\n",
    "\n",
    "    def test_wood_initialization(self):\n",
    "        wood = Wood(\"Pine\", 50, 8, \"Pine\")\n",
    "        self.assertEqual(wood.name, \"Pine\")\n",
    "        self.assertEqual(wood.quantity, 50)\n",
    "        self.assertEqual(wood.unit_price, 8)\n",
    "        self.assertEqual(wood.wood_type, \"Pine\")\n",
    "\n",
    "    def test_plastic_initialization(self):\n",
    "        plastic = Plastic(\"PVC\", 200, 1.2, \"High\")\n",
    "        self.assertEqual(plastic.name, \"PVC\")\n",
    "        self.assertEqual(plastic.quantity, 200)\n",
    "        self.assertEqual(plastic.unit_price, 1.2)\n",
    "        self.assertEqual(plastic.grade, \"High\")\n",
    "\n",
    "    def test_calculate_cost_metal(self):\n",
    "        metal = Metal(\"Iron\", 100, 5, 90)\n",
    "        self.assertEqual(metal.calculate_cost(), 450)\n",
    "\n",
    "    def test_calculate_cost_wood(self):\n",
    "        wood = Wood(\"Mahogany\", 50, 10, \"Mahogany\")\n",
    "        self.assertEqual(wood.calculate_cost(), 1000)\n",
    "\n",
    "    def test_calculate_cost_plastic(self):\n",
    "        plastic = Plastic(\"Polyethylene\", 200, 1, \"High\")\n",
    "        self.assertEqual(plastic.calculate_cost(), 300)\n",
    "\n",
    "if __name__ == '__main__':\n",
    "    unittest.main(argv=[''], verbosity=2, exit=False)\n"
   ]
  }
 ],
 "metadata": {
  "kernelspec": {
   "display_name": "Python 3",
   "language": "python",
   "name": "python3"
  },
  "language_info": {
   "codemirror_mode": {
    "name": "ipython",
    "version": 3
   },
   "file_extension": ".py",
   "mimetype": "text/x-python",
   "name": "python",
   "nbconvert_exporter": "python",
   "pygments_lexer": "ipython3",
   "version": "3.11.9"
  }
 },
 "nbformat": 4,
 "nbformat_minor": 2
}
